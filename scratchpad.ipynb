{
  "cells": [
    {
      "cell_type": "markdown",
      "metadata": {
        "id": "view-in-github",
        "colab_type": "text"
      },
      "source": [
        "<a href=\"https://colab.research.google.com/github/2305A21L51Pooja/EEE/blob/main/scratchpad.ipynb\" target=\"_parent\"><img src=\"https://colab.research.google.com/assets/colab-badge.svg\" alt=\"Open In Colab\"/></a>"
      ]
    },
    {
      "cell_type": "code",
      "execution_count": 1,
      "metadata": {
        "colab": {
          "base_uri": "https://localhost:8080/"
        },
        "id": "lIYdn1woOS1n",
        "outputId": "8fc88993-e7c2-48b0-e8e0-e68c705dfe99"
      },
      "outputs": [
        {
          "output_type": "stream",
          "name": "stdout",
          "text": [
            "enter the Input category weather it is domestic, commercial , advertising or hoding : domestic\n",
            "2024-09-12 Sep:31:1726180317\n",
            "Enter the present KWH :7183\n",
            "Enter the previous KWH :7144\n",
            "bill at  39.0 w is: 138.39 Rs\n",
            "Present Unit:  7183.0 KWH\n",
            "Previous KWH:  7144.0 KWH\n",
            "Units  Consumed:  39.0 KWH\n",
            "Energy Charge:  76.05 Rs\n",
            "Customer Charge:  40 Rs\n",
            "Fixed Charge:  20 Rs\n",
            "Electricity Duty Charge:  2.34 Rs\n",
            "Bill Amount : 138.39 Rs\n"
          ]
        }
      ],
      "source": [
        "#category\n",
        "category=input(\"enter the Input category weather it is domestic, commercial , advertising or hoding : \").lower()\n",
        "#domestic\n",
        "from pytz import timezone\n",
        "from datetime import datetime\n",
        "ind_time=datetime.now(timezone(\"Asia/kolkata\")).strftime('%Y-%m-%d %h:%M:%s')\n",
        "print(ind_time)\n",
        "CU =float(input(\"Enter the present KWH :\"))\n",
        "PU=float(input(\"Enter the previous KWH :\"))\n",
        "units=float(CU-PU)\n",
        "ED=float(0.06*units)\n",
        "if category==\"domestic\":\n",
        "  FC=20\n",
        "  if units<=50:\n",
        "    EC=float(units*1.95)\n",
        "    Customer_charge=40\n",
        "    Bill=FC+EC+ED+Customer_charge\n",
        "    print(\"bill at \",units,\"w is:\",Bill,\"Rs\")\n",
        "\n",
        "  elif units<=100:\n",
        "    EC=float(units*3.10)\n",
        "    Customer_charge=70\n",
        "    Bill=FC+EC+ED+Customer_charge\n",
        "    print(\"bill at \",units,\"w is:\",Bill,\"Rs\")\n",
        "\n",
        "  elif units<=200:\n",
        "    EC=float(units*4.80)\n",
        "    Customer_charge=90\n",
        "    Bill=FC+EC+ED+Customer_charge\n",
        "    print(\"bill at \",units,\"w is:\",Bill,\"Rs\")\n",
        "\n",
        "\n",
        "elif category==\"commercial\":\n",
        "  ED=float(0.06*units)\n",
        "  FC=70\n",
        "  if units<=50:\n",
        "    EC=units*7\n",
        "    Customer_charge=50\n",
        "    Bill=FC+EC+ED+Customer_charge\n",
        "    print(\"bill at \",units,\"w is:\",Bill,\"Rs\")\n",
        "\n",
        "  elif units<=100:\n",
        "    EC=(units*7)\n",
        "    Customer_charge=90\n",
        "    Bill=FC+EC+ED+Customer_charge\n",
        "    print(\"bill at \",units,\"w is:\",Bill,\"Rs\")\n",
        "\n",
        "  elif units<=200:\n",
        "    EC=float(units*8.50)\n",
        "    Customer_charge=105\n",
        "    Bill=FC+EC+ED+Customer_charge\n",
        "    print(\"bill at \",units,\"w is:\",Bill,\"Rs\")\n",
        "\n",
        "else:\n",
        "  ED=float(0.06*units)\n",
        "  FC=60\n",
        "  if units<= 50:\n",
        "    EC=float(units*5.30)\n",
        "    Customer_charge=45\n",
        "    Bill=FC+EC+ED+Customer_charge\n",
        "    print(\"bill at \",units,\"w is:\",Bill,\"Rs\")\n",
        "\n",
        "  elif units<=100:\n",
        "    EC=float(units*6.60)\n",
        "    Customer_charge=55\n",
        "    Bill=FC+EC+ED+Customer_charge\n",
        "    print(\"bill at \",units,\"w is:\",Bill,\"Rs\")\n",
        "\n",
        "  elif units<=200:\n",
        "    EC=float(units*7.50)\n",
        "    Customer_charge=65\n",
        "    Bill=FC+EC+ED+Customer_charge\n",
        "    print(\"bill at \",units,\"w is:\",Bill,\"Rs\")\n",
        "\n",
        "print(\"Present Unit: \",CU,\"KWH\")\n",
        "print(\"Previous KWH: \",PU,\"KWH\")\n",
        "print(\"Units  Consumed: \",units,\"KWH\")\n",
        "print(\"Energy Charge: \",EC,\"Rs\")\n",
        "print(\"Customer Charge: \",Customer_charge,\"Rs\")\n",
        "print(\"Fixed Charge: \",FC,\"Rs\")\n",
        "print(\"Electricity Duty Charge: \",ED,\"Rs\")\n",
        "print(\"Bill Amount :\",Bill,\"Rs\")\n"
      ]
    }
  ],
  "metadata": {
    "colab": {
      "name": "scratchpad",
      "provenance": [],
      "include_colab_link": true
    },
    "kernelspec": {
      "display_name": "Python 3",
      "name": "python3"
    }
  },
  "nbformat": 4,
  "nbformat_minor": 0
}