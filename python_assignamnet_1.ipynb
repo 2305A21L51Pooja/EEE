{
  "nbformat": 4,
  "nbformat_minor": 0,
  "metadata": {
    "colab": {
      "provenance": [],
      "include_colab_link": true
    },
    "kernelspec": {
      "name": "python3",
      "display_name": "Python 3"
    },
    "language_info": {
      "name": "python"
    }
  },
  "cells": [
    {
      "cell_type": "markdown",
      "metadata": {
        "id": "view-in-github",
        "colab_type": "text"
      },
      "source": [
        "<a href=\"https://colab.research.google.com/github/2305A21L51Pooja/EEE/blob/main/python_assignamnet_1.ipynb\" target=\"_parent\"><img src=\"https://colab.research.google.com/assets/colab-badge.svg\" alt=\"Open In Colab\"/></a>"
      ]
    },
    {
      "cell_type": "code",
      "execution_count": 1,
      "metadata": {
        "id": "M_-o00VWEKPl",
        "outputId": "b18c073c-a2fe-4411-9160-5f9b284b3917",
        "colab": {
          "base_uri": "https://localhost:8080/"
        }
      },
      "outputs": [
        {
          "output_type": "stream",
          "name": "stdout",
          "text": [
            "enter the transformer rating in VA5000\n",
            "enter the pf of transformer1\n",
            "enter the transformer corelosses in WATTS100\n",
            "enter the flcu_losses in WATTS800\n",
            "enter the transformer load value1\n",
            "rating of transformer= 5000 VA\n",
            "pf of transformer= 1.0\n",
            "corelosses= 100.0\n",
            "full load_culosses= 800.0 WATTS\n",
            "transformer load= 1.0\n",
            "copper losses= 800.0 WATTS\n",
            "efficency of transformer= 84.7457627118644 %\n"
          ]
        }
      ],
      "source": [
        "rating=int(input(\"enter the transformer rating in VA\"))\n",
        "pf=input(\"enter the pf of transformer\")\n",
        "corelosses=input(\"enter the transformer corelosses in WATTS\")\n",
        "flcu_losses=input(\"enter the flcu_losses in WATTS\")\n",
        "x=input(\"enter the transformer load value\")\n",
        "\n",
        "\n",
        "output=float(rating)*float(x)*float(pf)\n",
        "cl=(float(x)**2)*float(flcu_losses)\n",
        "input=(float(output))+(float(corelosses))+(float(flcu_losses))\n",
        "eff=float(output/input)*100\n",
        "\n",
        "\n",
        "print(\"rating of transformer=\",int(rating),\"VA\")\n",
        "print(\"pf of transformer=\",float(pf))\n",
        "print(\"corelosses=\",float(corelosses))\n",
        "print(\"full load_culosses=\",float(flcu_losses),\"WATTS\")\n",
        "print(\"transformer load=\",float(x))\n",
        "print(\"copper losses=\",float(cl),\"WATTS\")\n",
        "print(\"efficency of transformer=\",float(eff),\"%\")"
      ]
    },
    {
      "cell_type": "code",
      "source": [],
      "metadata": {
        "id": "oPvxhurpMrsB"
      },
      "execution_count": null,
      "outputs": []
    }
  ]
}