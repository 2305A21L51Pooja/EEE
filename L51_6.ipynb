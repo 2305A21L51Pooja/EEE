{
  "nbformat": 4,
  "nbformat_minor": 0,
  "metadata": {
    "colab": {
      "provenance": [],
      "authorship_tag": "ABX9TyOGvoABUBvudZSEsmlTJ00d",
      "include_colab_link": true
    },
    "kernelspec": {
      "name": "python3",
      "display_name": "Python 3"
    },
    "language_info": {
      "name": "python"
    }
  },
  "cells": [
    {
      "cell_type": "markdown",
      "metadata": {
        "id": "view-in-github",
        "colab_type": "text"
      },
      "source": [
        "<a href=\"https://colab.research.google.com/github/2305A21L51Pooja/EEE/blob/main/L51_6.ipynb\" target=\"_parent\"><img src=\"https://colab.research.google.com/assets/colab-badge.svg\" alt=\"Open In Colab\"/></a>"
      ]
    },
    {
      "cell_type": "code",
      "execution_count": null,
      "metadata": {
        "colab": {
          "base_uri": "https://localhost:8080/"
        },
        "id": "SCEgbNWVtyW7",
        "outputId": "91ad20e0-2f9e-4e04-9c5e-a6a205a95fb3"
      },
      "outputs": [
        {
          "output_type": "stream",
          "name": "stdout",
          "text": [
            "++++++\r\n",
            "+++++\r\n",
            "++++\r\n",
            "+++\r\n",
            "++\r\n",
            "+\r\n",
            "\r\n"
          ]
        }
      ],
      "source": [
        "i=1\n",
        "for i in range (7,0,-1):\n",
        "  j=1\n",
        "  for j in range(0,i-1):\n",
        "    j=1\n",
        "    print(\"+\"*j,end=\"\")\n",
        "  print(\"\\r\")\n"
      ]
    },
    {
      "cell_type": "code",
      "source": [
        "i=1\n",
        "for i in range(0,7):\n",
        "  j=1\n",
        "  for j in range(0,i):\n",
        "    j=i+1\n",
        "    print(\"*\",end=\"\")\n",
        "  print(\"\\r\")\n",
        "\n",
        "\n"
      ],
      "metadata": {
        "colab": {
          "base_uri": "https://localhost:8080/"
        },
        "id": "oBP0-Zt6xVKA",
        "outputId": "3c50a726-4300-48d9-c39e-a96131320272"
      },
      "execution_count": null,
      "outputs": [
        {
          "output_type": "stream",
          "name": "stdout",
          "text": [
            "\r\n",
            "*\r\n",
            "**\r\n",
            "***\r\n",
            "****\r\n",
            "*****\r\n",
            "******\r\n"
          ]
        }
      ]
    },
    {
      "cell_type": "code",
      "source": [
        "i=6\n",
        "for p in range(6,0,-1):\n",
        "  j=1\n",
        "  for b in range(i-p):\n",
        "    j=i+1\n",
        "    print(\"*\",end=\"\")\n",
        "  print(\"\\r\")\n"
      ],
      "metadata": {
        "colab": {
          "base_uri": "https://localhost:8080/"
        },
        "id": "vuv3euCH8K03",
        "outputId": "a295ebbc-5286-4eea-853e-97dfc3dff411"
      },
      "execution_count": null,
      "outputs": [
        {
          "output_type": "stream",
          "name": "stdout",
          "text": [
            "\r\n",
            "*\r\n",
            "**\r\n",
            "***\r\n",
            "****\r\n",
            "*****\r\n"
          ]
        }
      ]
    },
    {
      "cell_type": "code",
      "source": [
        "i=5\n",
        "for p in range(1,6):\n",
        "  for t in range(i-p):\n",
        "   print(' ',end='')\n",
        "\n",
        "  for j in range(p):\n",
        "      print('*',end='')\n",
        "\n",
        "  print('')"
      ],
      "metadata": {
        "colab": {
          "base_uri": "https://localhost:8080/"
        },
        "id": "ArzWfZNg6xI2",
        "outputId": "de666a4b-e2d8-4475-e0d6-5c273c65f68d"
      },
      "execution_count": null,
      "outputs": [
        {
          "output_type": "stream",
          "name": "stdout",
          "text": [
            "    *\n",
            "   **\n",
            "  ***\n",
            " ****\n",
            "*****\n"
          ]
        }
      ]
    },
    {
      "cell_type": "code",
      "source": [
        "i=6\n",
        "for p in range(6,0,-1):\n",
        "  for t in range(i-p):\n",
        "   print(' ',end='')\n",
        "\n",
        "  for j in range(p):\n",
        "      print('+',end='')\n",
        "\n",
        "  print('')\n",
        "\n"
      ],
      "metadata": {
        "id": "-uwv6_0uzJDw",
        "colab": {
          "base_uri": "https://localhost:8080/"
        },
        "outputId": "2e458d52-0295-4521-ccfa-ce7abff17f19"
      },
      "execution_count": null,
      "outputs": [
        {
          "output_type": "stream",
          "name": "stdout",
          "text": [
            "++++++\n",
            " +++++\n",
            "  ++++\n",
            "   +++\n",
            "    ++\n",
            "     +\n"
          ]
        }
      ]
    }
  ]
}