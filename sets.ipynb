{
  "nbformat": 4,
  "nbformat_minor": 0,
  "metadata": {
    "colab": {
      "private_outputs": true,
      "provenance": [],
      "authorship_tag": "ABX9TyPHkfmDQqabvS5FAT0cqrIx",
      "include_colab_link": true
    },
    "kernelspec": {
      "name": "python3",
      "display_name": "Python 3"
    },
    "language_info": {
      "name": "python"
    }
  },
  "cells": [
    {
      "cell_type": "markdown",
      "metadata": {
        "id": "view-in-github",
        "colab_type": "text"
      },
      "source": [
        "<a href=\"https://colab.research.google.com/github/2305A21L51Pooja/EEE/blob/main/sets.ipynb\" target=\"_parent\"><img src=\"https://colab.research.google.com/assets/colab-badge.svg\" alt=\"Open In Colab\"/></a>"
      ]
    },
    {
      "cell_type": "code",
      "execution_count": null,
      "metadata": {
        "id": "35DwPtHWCY2x"
      },
      "outputs": [],
      "source": [
        "#sets"
      ]
    },
    {
      "cell_type": "code",
      "source": [
        "my_sets={\"pooja harshini\",\"3rd Year\",\"EEE\",7013340716,19,True}\n",
        "print(my_sets)"
      ],
      "metadata": {
        "id": "ZMDpzpEAEeIO"
      },
      "execution_count": null,
      "outputs": []
    },
    {
      "cell_type": "code",
      "source": [
        "#to make a sets\n",
        "makeset=set((\"harshini\",2005,False))\n",
        "print(makeset)"
      ],
      "metadata": {
        "id": "8mPhwmWkSK20"
      },
      "execution_count": null,
      "outputs": []
    },
    {
      "cell_type": "code",
      "source": [
        "print(len(my_sets))\n",
        "print(type(my_sets))\n",
        "print(all(my_sets))\n",
        "print(any(my_sets))\n",
        "print(enumerate(my_sets))"
      ],
      "metadata": {
        "id": "rP_0iILsFbO7"
      },
      "execution_count": null,
      "outputs": []
    },
    {
      "cell_type": "code",
      "source": [
        "#sets doesn't allows duliplicates\n",
        "Sets={\"pooja\",\"Harshini\",\"pooja\",19}\n",
        "print(Sets)"
      ],
      "metadata": {
        "id": "8XM3MtU9R-gc"
      },
      "execution_count": null,
      "outputs": []
    },
    {
      "cell_type": "code",
      "source": [
        "#range is can't defined because it not sequencial like list and tuple\n",
        "print(my_sets[0])\n",
        "print(my_sets[0:3])"
      ],
      "metadata": {
        "id": "ILOSyO6RGmW0"
      },
      "execution_count": null,
      "outputs": []
    },
    {
      "cell_type": "code",
      "source": [
        "#but we can access data using for loop\n",
        "for x in my_sets:\n",
        "  print(x)"
      ],
      "metadata": {
        "id": "7UZ3xRvITLdZ"
      },
      "execution_count": null,
      "outputs": []
    },
    {
      "cell_type": "code",
      "source": [
        "# addding elements in my_sets\n",
        "my_sets.add(\"03/05/2005\")\n",
        "print(my_sets)"
      ],
      "metadata": {
        "id": "JO-xVm2QG52N"
      },
      "execution_count": null,
      "outputs": []
    },
    {
      "cell_type": "code",
      "source": [
        "# removing elements in my_sets\n",
        "my_sets.remove(\"03/05/2005\")\n",
        "print(my_sets)"
      ],
      "metadata": {
        "id": "4iM0oMCQMAWu"
      },
      "execution_count": null,
      "outputs": []
    },
    {
      "cell_type": "code",
      "source": [
        "#update elements in my_sets\n",
        "my_sets.update(\"Lateral\")\n",
        "print(my_sets)"
      ],
      "metadata": {
        "id": "OmkWcufPPlmM"
      },
      "execution_count": null,
      "outputs": []
    },
    {
      "cell_type": "code",
      "source": [
        "set1={\"father number\",9866492627,\"others:\",7013340716,9392913167}\n",
        "set2={\"mother number  \",9392913167}\n",
        "setfinal=set1|set2\n",
        "print(setfinal)\n",
        "setintersection=set1&set2\n",
        "print(setintersection)\n",
        "setdifference=set1-set2\n",
        "print(setdifference)\n"
      ],
      "metadata": {
        "id": "q0QUJgevQCAf"
      },
      "execution_count": null,
      "outputs": []
    },
    {
      "cell_type": "code",
      "source": [
        "#removing elements in my_sets\n",
        "#But as it is unordered as random it remove the lat element in the set\n",
        "my_sets.pop()\n",
        "print(my_sets)"
      ],
      "metadata": {
        "id": "lrJu5JZxUwEJ"
      },
      "execution_count": null,
      "outputs": []
    },
    {
      "cell_type": "code",
      "source": [
        "print()"
      ],
      "metadata": {
        "id": "pJQIQfekWbBB"
      },
      "execution_count": null,
      "outputs": []
    },
    {
      "cell_type": "markdown",
      "source": [
        "Pyton Dictionaries"
      ],
      "metadata": {
        "id": "w7rjINpuWHQ7"
      }
    }
  ]
}