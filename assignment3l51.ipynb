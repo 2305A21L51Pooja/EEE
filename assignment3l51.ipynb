{
  "nbformat": 4,
  "nbformat_minor": 0,
  "metadata": {
    "colab": {
      "private_outputs": true,
      "provenance": [],
      "authorship_tag": "ABX9TyNHjrOn8E2pXhI5V1NCKUOU",
      "include_colab_link": true
    },
    "kernelspec": {
      "name": "python3",
      "display_name": "Python 3"
    },
    "language_info": {
      "name": "python"
    }
  },
  "cells": [
    {
      "cell_type": "markdown",
      "metadata": {
        "id": "view-in-github",
        "colab_type": "text"
      },
      "source": [
        "<a href=\"https://colab.research.google.com/github/2305A21L51Pooja/EEE/blob/main/assignment3l51.ipynb\" target=\"_parent\"><img src=\"https://colab.research.google.com/assets/colab-badge.svg\" alt=\"Open In Colab\"/></a>"
      ]
    },
    {
      "cell_type": "code",
      "execution_count": null,
      "metadata": {
        "id": "XkdJVIq3kfvT"
      },
      "outputs": [],
      "source": [
        "import math as mt\n",
        "import module as md\n",
        "rating=5000\n",
        "#Pc=core loss\n",
        "Pv=220\n",
        "Sv=440\n",
        "Vo=220\n",
        "Io=2\n",
        "Wo=250\n",
        "\n",
        "Vsc=75\n",
        "Isc=10\n",
        "Wsc=500\n",
        "\n",
        "pf=1\n",
        "X=float(input(\"enter load X\"))\n",
        "\n",
        "\n",
        "'''def oc(Vo,Io,Wo):\n",
        "\n",
        "    Noloadpf=float(Wo)/(Vo*Io)\n",
        "    Iw=float(Io*Noloadpf)\n",
        "\n",
        "    Imu = Io * mt.sqrt(1 - Noloadpf ** 2)\n",
        "    R0=float(Vo/Iw)\n",
        "    X0=float(Vo/Imu)\n",
        "    return R0,X0'''\n",
        "\n",
        "''' def Sc(Vsc,Wsc,Isc,Sv,Pv):\n",
        "    k=float(Sv/Pv)\n",
        "    R02=float(Wsc/Isc**2)\n",
        "    Z02=float(Vsc/Isc)\n",
        "    X02=mt.sqrt(Z02*2-R02*2)\n",
        "    R01=float(R02/k**2)\n",
        "    X01=float(X02/k**2)\n",
        "    return R01,X01'''\n",
        "\n",
        "'''def eff(rating,Wo,Wsc,X,pf):\n",
        "    efficiency = (X*rating*100)/(X*rating+Wsc+X**2*Wsc)\n",
        "    copper=Wsc*X\n",
        "    return efficiency,copper\n",
        "phase_angle=mt.acos(Wo/(Vo*Io))\n",
        "noloaphaseang=mt.degrees(phase_angle)\n",
        "print(\"---------------------------\")'''\n",
        "\n",
        "#function call for r0,x0 and input v0,i0,wo\n",
        "R0,X0=md.oc(Vo,Io,Wo)\n",
        "print(\"r0 is :\",R0)\n",
        "print(\"x0 is :\",X0)\n",
        "#function call for r01,x01 and input :vsc,x01 ,wsc\n",
        "R01,X01=md.Sc(Vsc,Wsc,Isc,Sv,Pv)\n",
        "print(\"r01 R refer to pimary(rhv) \",R01)\n",
        "print(\"x01\",X01)\n",
        "\n",
        "#function call for eff and copper\n",
        "print(\"efficiency, copper at \",X,\"load: \",eff(rating,Wo,Wsc,X,pf))"
      ]
    }
  ]
}