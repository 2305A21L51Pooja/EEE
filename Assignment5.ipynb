{
  "nbformat": 4,
  "nbformat_minor": 0,
  "metadata": {
    "colab": {
      "private_outputs": true,
      "provenance": [],
      "authorship_tag": "ABX9TyPbXFGryvrFV0O+TK3XxU6B",
      "include_colab_link": true
    },
    "kernelspec": {
      "name": "python3",
      "display_name": "Python 3"
    },
    "language_info": {
      "name": "python"
    }
  },
  "cells": [
    {
      "cell_type": "markdown",
      "metadata": {
        "id": "view-in-github",
        "colab_type": "text"
      },
      "source": [
        "<a href=\"https://colab.research.google.com/github/2305A21L51Pooja/EEE/blob/main/Assignment5.ipynb\" target=\"_parent\"><img src=\"https://colab.research.google.com/assets/colab-badge.svg\" alt=\"Open In Colab\"/></a>"
      ]
    },
    {
      "cell_type": "code",
      "execution_count": null,
      "metadata": {
        "id": "B8ZoQnT2CXfK"
      },
      "outputs": [],
      "source": [
        "import datetime\n",
        "import ebt\n",
        "now = datetime.datetime.now()\n",
        "formatted_now = now.strftime(\"%Y-%m-%d %H:%M:%S\")\n",
        "count = 0\n",
        "#category\n",
        "category=input(\"enter the Input category weather it is domestic, commercial , advertising or hoding : \").lower()\n",
        "#domestic\n",
        "CU =float(input(\"Enter the present KWH :\"))\n",
        "PU=float(input(\"Enter the previous KWH :\"))\n",
        "units=float(CU-PU)\n",
        "FC=0\n",
        "Customer_charge=0\n",
        "EC=0\n",
        "ED=0.06*units\n",
        "if category==\"domestic\":\n",
        "  FC=20\n",
        "  if units<=50:\n",
        "    EC=float(units*1.95)\n",
        "    Customer_charge=40\n",
        "\n",
        "  elif units<=100:\n",
        "    EC=float(units*3.10)\n",
        "    Customer_charge=70\n",
        "\n",
        "  elif units<=200:\n",
        "    EC=float(units*4.80)\n",
        "    Customer_charge=90\n",
        "    count+=1\n",
        "\n",
        "elif category==\"commercial\":\n",
        "  ED=float(0.06*units)\n",
        "  FC=70\n",
        "  if units<=50:\n",
        "    EC=units*7\n",
        "    Customer_charge=50\n",
        "\n",
        "  elif units<=100:\n",
        "    EC=(units*7)\n",
        "    Customer_charge=90\n",
        "\n",
        "  elif units<=200:\n",
        "    EC=float(units*8.50)\n",
        "    Customer_charge=105\n",
        "    count +=1\n",
        "\n",
        "elif category==\"advertisment or hoding\":\n",
        "  FC=60\n",
        "  if units<= 50:\n",
        "    EC=float(units*5.30)\n",
        "    Customer_charge=45\n",
        "\n",
        "  elif units<=100:\n",
        "    EC=float(units*6.60)\n",
        "    Customer_charge=55\n",
        "\n",
        "  elif units<=200:\n",
        "    EC=float(units*7.50)\n",
        "    Customer_charge=65\n",
        "    count+=1\n",
        "\n",
        "else:\n",
        "  print(\"Give valid category \")\n",
        "  count+=1\n",
        "\n",
        "if count==0:\n",
        "   Bill=EC+FC+ED+Customer_charge\n",
        "   print(\"---------------------------\")\n",
        "   print(\"TGNPDCL\")\n",
        "   print(\"Formatted date and time:\", formatted_now)\n",
        "   print(\"---------------------------\")\n",
        "   print(\"Present Unit: \",CU,\"KWH\")\n",
        "   print(\"Previous KWH: \",PU,\"KWH\")\n",
        "   print(\"Units  Consumed: \",units,\"KWH\")\n",
        "   print(\"Energy Charge: \",EC,\"Rs\")\n",
        "   print(\"Customer Charge: \",Customer_charge,\"Rs\")\n",
        "   print(\"Fixed Charge: \",FC,\"Rs\")\n",
        "   print(\"Electricity Duty Charge: \",ED,\"Rs\")\n",
        "   print(\"Bill Amount :\",Bill,\"Rs\")\n",
        "\n",
        "\n"
      ]
    }
  ]
}