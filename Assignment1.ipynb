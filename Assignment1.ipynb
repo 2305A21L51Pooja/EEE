{
  "nbformat": 4,
  "nbformat_minor": 0,
  "metadata": {
    "colab": {
      "private_outputs": true,
      "provenance": [],
      "authorship_tag": "ABX9TyOtvuE4ZaGbouR6VA1p8r5q",
      "include_colab_link": true
    },
    "kernelspec": {
      "name": "python3",
      "display_name": "Python 3"
    },
    "language_info": {
      "name": "python"
    }
  },
  "cells": [
    {
      "cell_type": "markdown",
      "metadata": {
        "id": "view-in-github",
        "colab_type": "text"
      },
      "source": [
        "<a href=\"https://colab.research.google.com/github/2305A21L51Pooja/EEE/blob/main/Assignment1.ipynb\" target=\"_parent\"><img src=\"https://colab.research.google.com/assets/colab-badge.svg\" alt=\"Open In Colab\"/></a>"
      ]
    },
    {
      "cell_type": "code",
      "source": [
        "#COPPER EFFICIENCY OF TRANSFORMER A\n",
        "x1=float(1)\n",
        "x2=float(0.75)\n",
        "x3=float(0.25)\n",
        "x4=float(0.5)\n",
        "print(\"note:the rating is measure in va,so indeed of kva multipy with 1000\")\n",
        "kva=float(input(\"enter the va value:\"))\n",
        "powerfactor=float(input(\"enter the power factor:\"))\n",
        "w0=float(input(\"enter the core losses:\"))\n",
        "wsc=float(input(\"enter the copper losses:\"))\n",
        "formula1=float(((x1*kva*powerfactor)/(x1*kva*powerfactor+w0+x1*x1*2*wsc))*100)\n",
        "print(\"effficency of the A's copper transformer at full load is:\",formula1,\"%\")\n",
        "formula2=float(((x2*kva*powerfactor)/(x2*kva*powerfactor+w0+x2*x2*2*wsc))*100)\n",
        "print(\"effficency of the A's copper transformer at 3/4th load is:\",formula2,\"%\")\n",
        "formula3=float(((x3*kva*powerfactor)/(x3*kva*powerfactor+w0+x3*x3*2*wsc))*100)\n",
        "print(\"effficency of the A's copper transformer at 1/4th is:\",formula3,\"%\")\n",
        "formula4=float(((x4*kva*powerfactor)/(x4*kva*powerfactor+w0+x4*x4*2*wsc))*100)\n",
        "print(\"effficency of the A's copper transformer at half load is:\",formula4,\"%\")\n",
        "x5=float(input(\"enter the different load\"))\n",
        "if x5>=0:\n",
        "   formula5=float(((x5*kva*powerfactor)/(x5*kva*powerfactor+w0+x5*x5*2*wsc))*100)\n",
        "   print(\"effficency of the A's copper transformer is:\",formula5,\"%\")\n",
        "else:\n",
        "   print(\"error deteced\")\n"
      ],
      "metadata": {
        "id": "aK_sz1mj7Lvb"
      },
      "execution_count": null,
      "outputs": []
    },
    {
      "cell_type": "code",
      "source": [
        "#COPPER EFFICIENCY OF TRANSFORMER B\n",
        "x1=float(1)\n",
        "x2=float(0.75)\n",
        "x3=float(0.25)\n",
        "x4=float(0.5)\n",
        "print(\"note:the rating is measure in va,so indeed of kva multipy with 1000\")\n",
        "kva=float(input(\"enter the va value:\"))\n",
        "powerfactor=float(input(\"enter the power factor:\"))\n",
        "w0=float(input(\"enter the core losses:\"))\n",
        "wsc=float(input(\"enter the copper losses:\"))\n",
        "formula1=float(((x1*kva*powerfactor)/(x1*kva*powerfactor+w0+x1*x1*2*wsc))*100)\n",
        "print(\"effficency of the B's copper transformer at full load is:\",formula1,\"%\")\n",
        "formula2=float(((x2*kva*powerfactor)/(x2*kva*powerfactor+w0+x2*x2*2*wsc))*100)\n",
        "print(\"effficency of the B's copper transformer at 3/4th load is:\",formula2,\"%\")\n",
        "formula3=float(((x3*kva*powerfactor)/(x3*kva*powerfactor+w0+x3*x3*2*wsc))*100)\n",
        "print(\"effficency of the B's copper transformer at 1/4th is:\",formula3,\"%\")\n",
        "formula4=float(((x4*kva*powerfactor)/(x4*kva*powerfactor+w0+x4*x4*2*wsc))*100)\n",
        "print(\"effficency of the B's copper transformer at half load is:\",formula4,\"%\")\n",
        "x5=float(input(\"enter the different load\"))\n",
        "if x5>=0:\n",
        "   formula5=float(((x5*kva*powerfactor)/(x5*kva*powerfactor+w0+x5*x5*2*wsc))*100)\n",
        "   print(\"effficency of the B's copper transformer is:\",formula5,\"%\")\n",
        "else:\n",
        "   print(\"error deteced\")"
      ],
      "metadata": {
        "id": "8pV18bi8BiB3"
      },
      "execution_count": null,
      "outputs": []
    },
    {
      "cell_type": "code",
      "source": [
        "#COPPER EFFICIENCY OF TRANSFORMER C\n",
        "x1=float(1)\n",
        "x2=float(0.75)\n",
        "x3=float(0.25)\n",
        "x4=float(0.5)\n",
        "print(\"note:the rating is measure in va,so indeed of kva multipy with 1000\")\n",
        "kva=float(input(\"enter the va value:\"))\n",
        "powerfactor=float(input(\"enter the power factor:\"))\n",
        "w0=float(input(\"enter the core losses:\"))\n",
        "wsc=float(input(\"enter the copper losses:\"))\n",
        "formula1=float(((x1*kva*powerfactor)/(x1*kva*powerfactor+w0+x1*x1*2*wsc))*100)\n",
        "print(\"effficency of the C's copper transformer at full load is:\",formula1,\"%\")\n",
        "formula2=float(((x2*kva*powerfactor)/(x2*kva*powerfactor+w0+x2*x2*2*wsc))*100)\n",
        "print(\"effficency of the C's copper transformer at 3/4th load is:\",formula2,\"%\")\n",
        "formula3=float(((x3*kva*powerfactor)/(x3*kva*powerfactor+w0+x3*x3*2*wsc))*100)\n",
        "print(\"effficency of the C's copper transformer at 1/4th is:\",formula3,\"%\")\n",
        "formula4=float(((x4*kva*powerfactor)/(x4*kva*powerfactor+w0+x4*x4*2*wsc))*100)\n",
        "print(\"effficency of the C's copper transformer at half load is:\",formula4,\"%\")\n",
        "x5=float(input(\"enter the different load\"))\n",
        "if x5>=0:\n",
        "   formula5=float(((x5*kva*powerfactor)/(x5*kva*powerfactor+w0+x5*x5*2*wsc))*100)\n",
        "   print(\"effficency of the C's copper transformer is:\",formula5,\"%\")\n",
        "else:\n",
        "   print(\"error deteced\")"
      ],
      "metadata": {
        "id": "VeUZ7TFpBjP4"
      },
      "execution_count": null,
      "outputs": []
    }
  ]
}