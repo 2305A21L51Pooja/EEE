{
  "nbformat": 4,
  "nbformat_minor": 0,
  "metadata": {
    "colab": {
      "private_outputs": true,
      "provenance": [],
      "authorship_tag": "ABX9TyPBShYVrGPgM7GHJDKFR8Zj",
      "include_colab_link": true
    },
    "kernelspec": {
      "name": "python3",
      "display_name": "Python 3"
    },
    "language_info": {
      "name": "python"
    }
  },
  "cells": [
    {
      "cell_type": "markdown",
      "metadata": {
        "id": "view-in-github",
        "colab_type": "text"
      },
      "source": [
        "<a href=\"https://colab.research.google.com/github/2305A21L51Pooja/EEE/blob/main/module.ipynb\" target=\"_parent\"><img src=\"https://colab.research.google.com/assets/colab-badge.svg\" alt=\"Open In Colab\"/></a>"
      ]
    },
    {
      "cell_type": "code",
      "execution_count": null,
      "metadata": {
        "id": "jEECHNHQ2_bc"
      },
      "outputs": [],
      "source": [
        "import math as mt\n",
        "def Sc(Vsc,Wsc,Isc,Sv,Pv):\n",
        "    k=float(Sv/Pv)\n",
        "    R02=float(Wsc/Isc**2)\n",
        "    Z02=float(Vsc/Isc)\n",
        "    X02=mt.sqrt(Z02*2-R02*2)\n",
        "    R01=float(R02/k**2)\n",
        "    X01=float(X02/k**2)\n",
        "    return R01,X01\n",
        "\n",
        "\n",
        "def oc(Vo,Io,Wo):\n",
        "\n",
        "    Noloadpf=float(Wo)/(Vo*Io)\n",
        "    Iw=float(Io*Noloadpf)\n",
        "\n",
        "    Imu = Io * mt.sqrt(1 - Noloadpf ** 2)\n",
        "    R0=float(Vo/Iw)\n",
        "    X0=float(Vo/Imu)\n",
        "    return R0,X0\n",
        "\n",
        "def eff(rating,Wo,Wsc,X,pf):\n",
        "    efficiency = float((X*rating*100)/(X*rating+Wo+X*X*Wsc))\n",
        "    copper=float(Wsc*X)\n",
        "    return efficiency,copper"
      ]
    }
  ]
}