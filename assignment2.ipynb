{
  "nbformat": 4,
  "nbformat_minor": 0,
  "metadata": {
    "colab": {
      "private_outputs": true,
      "provenance": [],
      "authorship_tag": "ABX9TyOdjpoDASpKTmOD4+oxno8l",
      "include_colab_link": true
    },
    "kernelspec": {
      "name": "python3",
      "display_name": "Python 3"
    },
    "language_info": {
      "name": "python"
    }
  },
  "cells": [
    {
      "cell_type": "markdown",
      "metadata": {
        "id": "view-in-github",
        "colab_type": "text"
      },
      "source": [
        "<a href=\"https://colab.research.google.com/github/2305A21L51Pooja/EEE/blob/main/assignment2.ipynb\" target=\"_parent\"><img src=\"https://colab.research.google.com/assets/colab-badge.svg\" alt=\"Open In Colab\"/></a>"
      ]
    },
    {
      "cell_type": "code",
      "execution_count": null,
      "metadata": {
        "id": "S9zQK4-hRhVp"
      },
      "outputs": [],
      "source": [
        "import math as mt\n",
        "import numpy as np\n",
        "#given data\n",
        "v1=230\n",
        "v2=440\n",
        "v0=220#voltage at open circuit\n",
        "i0=2 #current at open ciruit\n",
        "w0=250 #core losses\n",
        "vsc=75 # voltage at short circuit\n",
        "isc=10 #current at short circuit\n",
        "x=float(input(\"enter the value at x loading:\"))\n",
        "wsc=x*x*500 #copper losses\n",
        "open_circuit_pf= float(w0/(v0*i0))\n",
        "iw=i0*open_circuit_pf\n",
        "imu=i0*np.sqrt(1-open_circuit_pf**2)\n",
        "r0=float(v0/iw)\n",
        "x0=float(v0/imu) ##x0 is can't difined at unity power factor\n",
        "r02=float(wsc/isc**2)\n",
        "z02=float(vsc/isc)\n",
        "x02=float((z02**2-r02**2)**1/2)\n",
        "k=float(v2/v1)\n",
        "r01=float(r02/k**2)\n",
        "x01=float(x02/k**2)\n",
        "open_circuit_phase_angle=mt.acos(w0/(v0*i0))\n",
        "print(\"no-load phase angle\",open_circuit_phase_angle)\n",
        "print(\"primary_voltage is :\",v1,\"voltage\")\n",
        "print(\"secondary_voltage is:\",v2,\"voltage\")\n",
        "print(\"r0:\",r0,\"ohms\")\n",
        "print(\"x0:\",x0,\"ohms\")\n",
        "print(\"r01:\",r01,\"ohms\")\n",
        "print(\"x0:\",x01,\"ohms\")\n",
        "print(\"core losses of the transformer at load is:\",w0,\"watts\")\n",
        "print(\"loading transformer\",x)\n",
        "print(\"copper losses of the transformer at given\",x,\"load is:\",wsc,\"watts\")\n",
        "print(\"no-load phase angle\",open_circuit_phase_angle)\n",
        "kva=5000\n",
        "powerfactor=1\n",
        "formula=float(((x*kva*powerfactor)/(x*kva*powerfactor+w0+wsc))*100)\n",
        "print(\"effficency of the copper transformer at is\",formula,\"%\")\n",
        "formula1=float(((0.7075*kva*powerfactor)/(0.7075*kva*powerfactor+w0+0.7075*0.7075*500))*100)\n",
        "print(\"maxmimum effficency of the copper transformer is:\",formula1,\"%\")\n"
      ]
    },
    {
      "cell_type": "code",
      "source": [],
      "metadata": {
        "id": "T_VKta8E2d5m"
      },
      "execution_count": null,
      "outputs": []
    },
    {
      "cell_type": "code",
      "source": [],
      "metadata": {
        "id": "U0JiI6GCctWr"
      },
      "execution_count": null,
      "outputs": []
    }
  ]
}