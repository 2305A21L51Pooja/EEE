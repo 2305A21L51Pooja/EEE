{
  "nbformat": 4,
  "nbformat_minor": 0,
  "metadata": {
    "colab": {
      "private_outputs": true,
      "provenance": [],
      "authorship_tag": "ABX9TyNwTDos4jjAyBv4VPUMSc5I",
      "include_colab_link": true
    },
    "kernelspec": {
      "name": "python3",
      "display_name": "Python 3"
    },
    "language_info": {
      "name": "python"
    }
  },
  "cells": [
    {
      "cell_type": "markdown",
      "metadata": {
        "id": "view-in-github",
        "colab_type": "text"
      },
      "source": [
        "<a href=\"https://colab.research.google.com/github/2305A21L51Pooja/EEE/blob/main/assignment1.ipynb\" target=\"_parent\"><img src=\"https://colab.research.google.com/assets/colab-badge.svg\" alt=\"Open In Colab\"/></a>"
      ]
    },
    {
      "cell_type": "code",
      "source": [
        "#COPPER and EFFICIENCY OF TRANSFORMER\n",
        "x1=float(1)\n",
        "x2=float(0.75)\n",
        "x3=float(0.25)\n",
        "x4=float(0.5)\n",
        "print(\"note:the rating is measure in va,so indeed of kva multipy with 1000\")\n",
        "kva=float(input(\"enter the va value:\"))\n",
        "powerfactor=float(input(\"enter the power factor:\"))\n",
        "w0=float(input(\"enter the core losses:\"))\n",
        "wsc=float(input(\"enter the copper losses:\"))\n",
        "cu1=x1*x1*wsc\n",
        "cu2=x2*x2*wsc\n",
        "cu3=x3*x3*wsc\n",
        "cu4=x4*x4*wsc\n",
        "formula1=float(((x1*kva*powerfactor)/(x1*kva*powerfactor+w0+cu1))*100)\n",
        "print(\"effficency of the transformer at full load is:\",formula1,\"%\")\n",
        "formula2=float(((x2*kva*powerfactor)/(x2*kva*powerfactor+w0+cu2))*100)\n",
        "print(\"effficency of  the transformer at 3/4th load is:\",formula2,\"%\")\n",
        "formula3=float(((x3*kva*powerfactor)/(x3*kva*powerfactor+w0+cu3))*100)\n",
        "print(\"effficency of the  transformer at 1/4th is:\",formula3,\"%\")\n",
        "formula4=float(((x4*kva*powerfactor)/(x4*kva*powerfactor+w0+cu4))*100)\n",
        "print(\"effficency of the transformer at half load is:\",formula4,\"%\")\n",
        "print(\"copper losses of transformer at full load is:\",cu1,\"watts\")\n",
        "print(\"copper losses of transformer at 3/4th load is:\",cu2,\"watts\")\n",
        "print(\"copper losses of transformer at half load is:\",cu3,\"watts\")\n",
        "print(\"copper losses of transformer at 1/4th load is:\",cu4,\"watts\")\n",
        "x5=float(input(\"enter the different load\"))\n",
        "cu5=x5*x5*wsc\n",
        "if x5>=0:\n",
        "   formula5=float(((x5*kva*powerfactor)/(x5*kva*powerfactor+w0+cu5))*100)\n",
        "   print(\"effficency of the  transformer is:\",formula5,\"%\")\n",
        "   print(\"copper losses of transformer at\",x5,\"load is:\",cu5,\"watts\")\n",
        "else:\n",
        "   print(\"error deteced\")\n"
      ],
      "metadata": {
        "id": "aK_sz1mj7Lvb"
      },
      "execution_count": null,
      "outputs": []
    }
  ]
}