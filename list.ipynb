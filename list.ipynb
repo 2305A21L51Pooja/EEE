{
  "nbformat": 4,
  "nbformat_minor": 0,
  "metadata": {
    "colab": {
      "provenance": [],
      "include_colab_link": true
    },
    "kernelspec": {
      "name": "python3",
      "display_name": "Python 3"
    },
    "language_info": {
      "name": "python"
    }
  },
  "cells": [
    {
      "cell_type": "markdown",
      "metadata": {
        "id": "view-in-github",
        "colab_type": "text"
      },
      "source": [
        "<a href=\"https://colab.research.google.com/github/2305A21L51Pooja/EEE/blob/main/list.ipynb\" target=\"_parent\"><img src=\"https://colab.research.google.com/assets/colab-badge.svg\" alt=\"Open In Colab\"/></a>"
      ]
    },
    {
      "cell_type": "markdown",
      "source": [
        "LIST\n"
      ],
      "metadata": {
        "id": "HJz3Q77P7R-7"
      }
    },
    {
      "cell_type": "code",
      "execution_count": null,
      "metadata": {
        "colab": {
          "base_uri": "https://localhost:8080/"
        },
        "id": "PFUzgnDA6qvT",
        "outputId": "f780db39-d79a-453a-8171-01cd5e17d2c0"
      },
      "outputs": [
        {
          "output_type": "stream",
          "name": "stdout",
          "text": [
            "['Pooja Harshini', 'EEE', 'SRU', '2305a21l51']\n"
          ]
        }
      ],
      "source": [
        "mylist=[\"Pooja Harshini\",\"EEE\",\"SRU\",\"2305a21l51\"]\n",
        "print(mylist)"
      ]
    },
    {
      "cell_type": "code",
      "source": [
        "print(type(mylist))"
      ],
      "metadata": {
        "colab": {
          "base_uri": "https://localhost:8080/"
        },
        "id": "NpQYlyIA7kYx",
        "outputId": "fc4711ca-34e1-4f0a-fa54-cdb2938954b8"
      },
      "execution_count": null,
      "outputs": [
        {
          "output_type": "stream",
          "name": "stdout",
          "text": [
            "<class 'list'>\n"
          ]
        }
      ]
    },
    {
      "cell_type": "code",
      "source": [
        "print(mylist[0:3])\n"
      ],
      "metadata": {
        "colab": {
          "base_uri": "https://localhost:8080/"
        },
        "id": "hkz0sCRU8eAZ",
        "outputId": "2d5dcc54-3f93-4224-e534-1f50fcc60163"
      },
      "execution_count": null,
      "outputs": [
        {
          "output_type": "stream",
          "name": "stdout",
          "text": [
            "['Pooja Harshini', 'EEE', 'SRU']\n"
          ]
        }
      ]
    },
    {
      "cell_type": "code",
      "source": [
        "print(mylist[0])"
      ],
      "metadata": {
        "colab": {
          "base_uri": "https://localhost:8080/"
        },
        "id": "FgOBWLT07wNR",
        "outputId": "161ce221-add5-4055-d650-cdf7d2f3f183"
      },
      "execution_count": null,
      "outputs": [
        {
          "output_type": "stream",
          "name": "stdout",
          "text": [
            "Pooja Harshini\n"
          ]
        }
      ]
    },
    {
      "cell_type": "code",
      "source": [
        "# addding elements in mylist\n",
        "mylist.append(\"3rd year\")\n",
        "print(mylist)"
      ],
      "metadata": {
        "colab": {
          "base_uri": "https://localhost:8080/"
        },
        "id": "FDD1FxpCAn7A",
        "outputId": "b00e8553-511f-4913-c32b-dbc74612b85c"
      },
      "execution_count": null,
      "outputs": [
        {
          "output_type": "stream",
          "name": "stdout",
          "text": [
            "['Pooja Harshini', 'EEE', 'SRU', '2305a21l51', 13, '3rd year']\n"
          ]
        }
      ]
    },
    {
      "cell_type": "code",
      "source": [
        "#inserting elements\n",
        "mylist.insert(11,13)\n",
        "print(mylist)"
      ],
      "metadata": {
        "colab": {
          "base_uri": "https://localhost:8080/"
        },
        "id": "JRpAnZkX9JOp",
        "outputId": "004d5bfa-0a1d-498f-f5c4-4fa8389c4fac"
      },
      "execution_count": null,
      "outputs": [
        {
          "output_type": "stream",
          "name": "stdout",
          "text": [
            "['Pooja Harshini', 'EEE', 'SRU', '2305a21l51', '3rd year', 'h', 'e', 'y', ' ', 'p', 'o', 13, 13, 'o', 'j', 'a']\n"
          ]
        }
      ]
    },
    {
      "cell_type": "code",
      "source": [
        "# remove element\n",
        "mylist.remove(mylist[4])\n",
        "print(mylist)"
      ],
      "metadata": {
        "colab": {
          "base_uri": "https://localhost:8080/"
        },
        "id": "ilpWRVPnB4AI",
        "outputId": "3fd49a25-9d71-476b-93a0-2dfb0c64ba76"
      },
      "execution_count": null,
      "outputs": [
        {
          "output_type": "stream",
          "name": "stdout",
          "text": [
            "['Pooja Harshini', 'EEE', 'SRU', '2305a21l51', '3rd year', 'h', 'e', 'y', ' ', 'p', 'o', 'o', 'j', 'a']\n"
          ]
        }
      ]
    },
    {
      "cell_type": "code",
      "source": [
        "#extend list\n",
        "mylist.extend('hey pooja')\n",
        "print(mylist)"
      ],
      "metadata": {
        "colab": {
          "base_uri": "https://localhost:8080/"
        },
        "id": "HD_-XKqDBMvQ",
        "outputId": "3f5ebad8-5c02-4343-c6a5-ea672710a918"
      },
      "execution_count": null,
      "outputs": [
        {
          "output_type": "stream",
          "name": "stdout",
          "text": [
            "['Pooja Harshini', 'EEE', 'SRU', '2305a21l51', 13, '3rd year', 'h', 'e', 'y', ' ', 'p', 'o', 'o', 'j', 'a']\n"
          ]
        }
      ]
    },
    {
      "cell_type": "code",
      "source": [
        "# update element\n",
        "mylist[1]=\"vemula\"\n",
        "print(mylist)"
      ],
      "metadata": {
        "colab": {
          "base_uri": "https://localhost:8080/"
        },
        "id": "TqPu_T6EDmvQ",
        "outputId": "c85c4a5b-755f-4c24-f0f4-5d3571d5d036"
      },
      "execution_count": null,
      "outputs": [
        {
          "output_type": "stream",
          "name": "stdout",
          "text": [
            "['Pooja Harshini', 'vemula', 'SRU', '2305a21l51', '3rd year', 'h', 'e', 'y', ' ', 'p', 'o', 13, 13, 'o', 'j', 'a']\n"
          ]
        }
      ]
    },
    {
      "cell_type": "markdown",
      "source": [
        "**TUPLE**"
      ],
      "metadata": {
        "id": "AqOzhzXkESIo"
      }
    },
    {
      "cell_type": "code",
      "source": [
        "data=(\"apple\",\"banana\",\"cherry\")\n",
        "print(data)"
      ],
      "metadata": {
        "colab": {
          "base_uri": "https://localhost:8080/"
        },
        "id": "Aah7NntSEYp4",
        "outputId": "335ebfca-02f8-4947-aa0f-52dda42c4efe"
      },
      "execution_count": null,
      "outputs": [
        {
          "output_type": "stream",
          "name": "stdout",
          "text": [
            "('apple', 'banana', 'cherry')\n"
          ]
        }
      ]
    },
    {
      "cell_type": "code",
      "source": [
        "print(type(data))"
      ],
      "metadata": {
        "colab": {
          "base_uri": "https://localhost:8080/"
        },
        "id": "h9IDrG5LE25o",
        "outputId": "a0f4fa43-fba7-45ad-df39-9e25c207d68a"
      },
      "execution_count": null,
      "outputs": [
        {
          "output_type": "stream",
          "name": "stdout",
          "text": [
            "<class 'tuple'>\n"
          ]
        }
      ]
    },
    {
      "cell_type": "code",
      "source": [
        "#changing tuple to list\n",
        "a=(list(data))\n",
        "print(a)"
      ],
      "metadata": {
        "colab": {
          "base_uri": "https://localhost:8080/"
        },
        "id": "wDMmEi8-Obrf",
        "outputId": "bd66ae7b-06e6-4b92-9acb-be52bc9ef6a3"
      },
      "execution_count": null,
      "outputs": [
        {
          "output_type": "stream",
          "name": "stdout",
          "text": [
            "['apple', 'banana', 'cherry']\n"
          ]
        }
      ]
    },
    {
      "cell_type": "code",
      "source": [
        "#adding elements in list\n",
        "a.append(\"mango\")\n",
        "print(a)"
      ],
      "metadata": {
        "colab": {
          "base_uri": "https://localhost:8080/"
        },
        "id": "N65_3vqzOyEP",
        "outputId": "7231cdd5-b7b1-4bd7-b4b4-7e85f83f5afd"
      },
      "execution_count": null,
      "outputs": [
        {
          "output_type": "stream",
          "name": "stdout",
          "text": [
            "['apple', 'banana', 'cherry', 'mango']\n"
          ]
        }
      ]
    },
    {
      "cell_type": "code",
      "source": [
        "#changing updated list to tuple\n",
        "data=tuple(a)\n",
        "print(data)"
      ],
      "metadata": {
        "colab": {
          "base_uri": "https://localhost:8080/"
        },
        "id": "yyAp7__TPwKH",
        "outputId": "9aab62a1-785d-431a-ad61-147cfda4b98d"
      },
      "execution_count": null,
      "outputs": [
        {
          "output_type": "stream",
          "name": "stdout",
          "text": [
            "('apple', 'banana', 'cherry', 'mango')\n"
          ]
        }
      ]
    }
  ]
}